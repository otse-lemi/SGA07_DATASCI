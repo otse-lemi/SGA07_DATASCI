{
  "nbformat": 4,
  "nbformat_minor": 0,
  "metadata": {
    "colab": {
      "name": "week17.ipynb",
      "provenance": [],
      "collapsed_sections": [],
      "authorship_tag": "ABX9TyNmjVNhmkM3/1cx51HlHgYv",
      "include_colab_link": true
    },
    "kernelspec": {
      "name": "python3",
      "display_name": "Python 3"
    }
  },
  "cells": [
    {
      "cell_type": "markdown",
      "metadata": {
        "id": "view-in-github",
        "colab_type": "text"
      },
      "source": [
        "<a href=\"https://colab.research.google.com/github/otse-lemi/SGA07_DATASCI/blob/master/week17.ipynb\" target=\"_parent\"><img src=\"https://colab.research.google.com/assets/colab-badge.svg\" alt=\"Open In Colab\"/></a>"
      ]
    },
    {
      "cell_type": "code",
      "metadata": {
        "id": "6OeyhQpyRSFq",
        "colab_type": "code",
        "outputId": "6fd268b5-d8fa-4204-98b5-bb2a5eec14d7",
        "colab": {
          "base_uri": "https://localhost:8080/",
          "height": 212
        }
      },
      "source": [
        "#Question 1\n",
        "\n",
        "id = int(input(\"How many fibonacci numbers do you want to be generated?\"))\n",
        "\n",
        "a = 0\n",
        "b = 1\n",
        "count = 0\n",
        "if id == 0:\n",
        "  print('invalid input')\n",
        "elif id == 1:\n",
        "  print(a)\n",
        "else:\n",
        "  for i in range(id):\n",
        "    while count < id:\n",
        "       print(a)\n",
        "       nth = a + b\n",
        "       a = b\n",
        "       b = nth\n",
        "       count =  count + 1\n",
        "    "
      ],
      "execution_count": 0,
      "outputs": [
        {
          "output_type": "stream",
          "text": [
            "How many fibonacci numbers do you want to be generated?10\n",
            "0\n",
            "1\n",
            "1\n",
            "2\n",
            "3\n",
            "5\n",
            "8\n",
            "13\n",
            "21\n",
            "34\n"
          ],
          "name": "stdout"
        }
      ]
    },
    {
      "cell_type": "code",
      "metadata": {
        "id": "quPrjrIpYMTM",
        "colab_type": "code",
        "outputId": "2d9e0196-8d5f-40fd-ae40-382bc7bcb2fd",
        "colab": {
          "base_uri": "https://localhost:8080/",
          "height": 52
        }
      },
      "source": [
        "#Question 2\n",
        "\n",
        "\n",
        "def rev_words(words):\n",
        "  rev_sentence = ' '.join(words.split()[::-1])\n",
        "  return rev_sentence\n",
        "\n",
        "#create an instance\n",
        "sentence = str(input(\"write a sentence you wish to be reversed: \"))\n",
        "output = rev_words(sentence)\n",
        "print(output)\n",
        "\t\n"
      ],
      "execution_count": 0,
      "outputs": [
        {
          "output_type": "stream",
          "text": [
            "write a sentence you wish to be reversed: it is a good day today\n",
            "today day good a is it\n"
          ],
          "name": "stdout"
        }
      ]
    },
    {
      "cell_type": "code",
      "metadata": {
        "id": "2bKd2F38da8m",
        "colab_type": "code",
        "outputId": "76080d0c-451e-4761-f927-1d90dd4089a4",
        "colab": {
          "base_uri": "https://localhost:8080/",
          "height": 70
        }
      },
      "source": [
        "#Question 3\n",
        "\n",
        "def palindrome_checker():\n",
        "  word = str(input(\"input string:\"))\n",
        "  word_reverse = word[::-1]\n",
        "  print(word_reverse)\n",
        "  if word == word_reverse:\n",
        "    print(\"This is a Palindrome\")\n",
        "  else:\n",
        "    print(\"Not a palindrome\")\n",
        "\n",
        "palindrome_checker()"
      ],
      "execution_count": 0,
      "outputs": [
        {
          "output_type": "stream",
          "text": [
            "input string:racecar\n",
            "racecar\n",
            "This is a Palindrome\n"
          ],
          "name": "stdout"
        }
      ]
    },
    {
      "cell_type": "code",
      "metadata": {
        "id": "PwEGFD2AKIHt",
        "colab_type": "code",
        "colab": {}
      },
      "source": [
        "#Question 4\n",
        "\n",
        "Birthdays = {'Joan': 1997-3-28, 'Betty': 1997-6-26, 'Otse': 1997-9-14}  "
      ],
      "execution_count": 0,
      "outputs": []
    },
    {
      "cell_type": "code",
      "metadata": {
        "id": "km18uqGpJhjq",
        "colab_type": "code",
        "outputId": "8331179c-ad81-4ecc-8cb5-da7a96698b91",
        "colab": {
          "base_uri": "https://localhost:8080/",
          "height": 176
        }
      },
      "source": [
        "for key in Birthdays:\n",
        "  print(\"Welcome to the birthday dictionary. We know the birthdays of: \", key)\n",
        "  name_input = str(input(\"Whose birthday do you want to look up?\"))\n",
        "  print(keyBetty)\n",
        "  if name_input == Birthdays:\n",
        "    print(name_input,\"birthday is\", value)\n",
        "    "
      ],
      "execution_count": 0,
      "outputs": [
        {
          "output_type": "stream",
          "text": [
            "Welcome to the birthday dictionary. We know the birthdays of:  Joan\n",
            "Whose birthday do you want to look up?joan\n",
            "Joan\n",
            "Welcome to the birthday dictionary. We know the birthdays of:  Betty\n",
            "Whose birthday do you want to look up?Betty\n",
            "Betty\n",
            "Welcome to the birthday dictionary. We know the birthdays of:  Otse\n",
            "Whose birthday do you want to look up?Otse\n",
            "Otse\n"
          ],
          "name": "stdout"
        }
      ]
    },
    {
      "cell_type": "code",
      "metadata": {
        "id": "9c3wlvbtcTPe",
        "colab_type": "code",
        "outputId": "85ef450c-968c-463e-f0bc-0f32a975b405",
        "colab": {
          "base_uri": "https://localhost:8080/",
          "height": 34
        }
      },
      "source": [
        "#Question 5\n",
        "\n",
        "import requests\n",
        "from bs4 import BeautifulSoup\n",
        "\n",
        "url = \"https://www.nytimes.com\"\n",
        "get_content = requests.get(url).text\n",
        "type(get_content)\n",
        "\n"
      ],
      "execution_count": 0,
      "outputs": [
        {
          "output_type": "execute_result",
          "data": {
            "text/plain": [
              "str"
            ]
          },
          "metadata": {
            "tags": []
          },
          "execution_count": 20
        }
      ]
    },
    {
      "cell_type": "code",
      "metadata": {
        "id": "MjjZO-BZ_Fvd",
        "colab_type": "code",
        "colab": {}
      },
      "source": [
        "soup = BeautifulSoup(get_content, \"lxml\")\n"
      ],
      "execution_count": 0,
      "outputs": []
    }
  ]
}